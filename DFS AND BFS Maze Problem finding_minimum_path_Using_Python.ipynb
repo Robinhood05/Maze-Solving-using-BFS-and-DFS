{
  "nbformat": 4,
  "nbformat_minor": 0,
  "metadata": {
    "colab": {
      "provenance": [],
      "authorship_tag": "ABX9TyOXTceK2CmKETD7gxES3lN0",
      "include_colab_link": true
    },
    "kernelspec": {
      "name": "python3",
      "display_name": "Python 3"
    },
    "language_info": {
      "name": "python"
    }
  },
  "cells": [
    {
      "cell_type": "markdown",
      "metadata": {
        "id": "view-in-github",
        "colab_type": "text"
      },
      "source": [
        "<a href=\"https://colab.research.google.com/github/Robinhood05/Robinhood005/blob/main/DFS%20AND%20BFS%20Maze%20Problem%20finding_minimum_path_Using_Python.ipynb\" target=\"_parent\"><img src=\"https://colab.research.google.com/assets/colab-badge.svg\" alt=\"Open In Colab\"/></a>"
      ]
    },
    {
      "cell_type": "code",
      "execution_count": null,
      "metadata": {
        "id": "tVbAErCoLhEL",
        "outputId": "550f85de-2132-47e8-b0c9-c8bc7203a963",
        "colab": {
          "base_uri": "https://localhost:8080/"
        }
      },
      "outputs": [
        {
          "output_type": "stream",
          "name": "stdout",
          "text": [
            "From 0 0\n",
            "To 1 0\n",
            "From 1 0\n",
            "To 1 1\n",
            "From 1 1\n",
            "To 2 1\n",
            "From 2 1\n",
            "To 2 2\n",
            "From 2 2\n",
            "To 2 3\n",
            "From 2 3\n",
            "To 3 3\n",
            "From 3 3\n",
            "To 3 4\n",
            "Minimum steps required: 7\n"
          ]
        }
      ],
      "source": [
        "import collections\n",
        "from typing import List\n",
        "\n",
        "class Solution:\n",
        "\n",
        "    def Path(self, grid: List[List[str]]) -> int:\n",
        "        rows = len(grid)\n",
        "        cols = len(grid[0])\n",
        "\n",
        "        queue = collections.deque()\n",
        "        visited = set()\n",
        "\n",
        "        directions = [(1,0),(-1,0),(0,-1),(0,1)] #Possible moving steps up down left and right\n",
        "\n",
        "        for row in range(rows):\n",
        "            for col in range(cols):\n",
        "                if grid[row][col] == \"S\":           #checking the 2d lists and finding start positions\n",
        "                    queue.append((row, col, 0))\n",
        "                    visited.add((row, col))       #making the start position as visited\n",
        "                    break                     #exiting from nested for loop\n",
        "\n",
        "        while queue:                          #starting from S untill list is empty\n",
        "            cur_row, cur_col, steps = queue.popleft()        #1 steps and marking current rows and col\n",
        "\n",
        "            if grid[cur_row][cur_col] == \"G\":               #if Goal is find returning the steps\n",
        "                return steps\n",
        "            else:                                          #else\n",
        "                for row_inc, col_inc in directions:        #moving all possible directions\n",
        "                    temp_row=cur_row\n",
        "                    temp_col=cur_col\n",
        "                    new_row = cur_row + row_inc            #new row will be present row + possible directions vector\n",
        "                    new_col = cur_col + col_inc\n",
        "\n",
        "                    if (0 <= new_row < rows) and (0 <= new_col < cols) and grid[new_row][new_col] != \"0\":     #checking if list not out of bounds and not blocked by 0\n",
        "\n",
        "                        if (new_row, new_col) not in visited:               #if new row and col not visited making it visited\n",
        "                            print(\"From \"+str(temp_row), temp_col)      #printing current position\n",
        "                            print(\"To \"+str(new_row), new_col)          #printing newx movement\n",
        "\n",
        "                            visited.add((new_row, new_col))\n",
        "                            queue.append((new_row, new_col, steps + 1))      #increment the steps with 1 and adding the new row and col in the queue\n",
        "\n",
        "        return -1     #if solution not found returning -1\n",
        "\n",
        "# Define the grid\n",
        "grid = [\n",
        "    [\"S\", \"0\", \"0\", \"0\", \"0\"],\n",
        "    [\"1\", \"1\", \"0\", \"0\", \"0\"],\n",
        "    [\"0\", \"1\", \"1\", \"1\", \"0\"],\n",
        "    [\"0\", \"0\", \"0\", \"1\", \"G\"]\n",
        "]\n",
        "\n",
        "\n",
        "solution_obj = Solution()\n",
        "\n",
        "# Call the function\n",
        "result = solution_obj.Path(grid)\n",
        "if result>0:\n",
        "    print(\"Minimum steps required:\", result)\n",
        "\n",
        "else :\n",
        "  print(\"Can't Reach the Goal\")"
      ]
    },
    {
      "cell_type": "code",
      "source": [
        "from typing import List\n",
        "\n",
        "class Solution:\n",
        "\n",
        "    def Path(self, Maze: List[List[str]]) -> int:\n",
        "        row_size = len(Maze)\n",
        "        col_size = len(Maze[0])\n",
        "        direction = [(1,0),(-1,0),(0,-1),(0,1)]\n",
        "        visited = set()\n",
        "\n",
        "        def dfs(row, col, step):\n",
        "            if Maze[row][col] == \"G\":\n",
        "                return step\n",
        "\n",
        "            visited.add((row, col))    #marking as visit\n",
        "\n",
        "            for row_inc, col_inc in direction:\n",
        "                new_row = row + row_inc\n",
        "                new_col = col + col_inc\n",
        "                if (0 <= new_row < row_size) and (0 <= new_col < col_size) and Maze[new_row][new_col] != \"0\" and (new_row, new_col) not in visited:\n",
        "                    result = dfs(new_row, new_col, step + 1)   #recursive call and increasing step every time untill goal found\n",
        "                    if result != -1:\n",
        "                        return result\n",
        "\n",
        "            return -1\n",
        "\n",
        "        for i in range(row_size):\n",
        "            for j in range(col_size):\n",
        "                if Maze[i][j] == \"S\":\n",
        "                    return dfs(i, j, 0)\n",
        "\n",
        "        return -1\n",
        "\n",
        "Maze = [\n",
        "    [\"S\", \"0\", \"0\", \"0\", \"0\"],\n",
        "    [\"1\", \"1\", \"0\", \"0\", \"0\"],\n",
        "    [\"0\", \"1\", \"1\", \"1\", \"0\"],\n",
        "    [\"0\", \"0\", \"0\", \"1\", \"G\"]\n",
        "]\n",
        "\n",
        "\n",
        "solution_obj = Solution()\n",
        "\n",
        "result = solution_obj.Path(Maze)\n",
        "if result >= 0:\n",
        "    print(\"Minimum steps required:\", result)\n",
        "else:\n",
        "    print(\"Can't reach the Goal\")\n"
      ],
      "metadata": {
        "id": "sVBzl2hBZlFS"
      },
      "execution_count": null,
      "outputs": []
    }
  ]
}