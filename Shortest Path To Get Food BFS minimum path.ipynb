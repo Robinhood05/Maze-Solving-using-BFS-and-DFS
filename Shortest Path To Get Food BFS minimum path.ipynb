# Input graph definition
graph = {
    'A': ['B', 'C', 'D'],
    'B': ['E'],
    'C': ['F'],
    'D': ['G', 'H'],
    'E': ['I'],
    'F': ['J'],
    'G': ['K'],
    'H': ['L', 'M', 'N'],
    'J': ['R'],
    'K': ['O', 'P'],
    'N': ['S'],
    'S': []
}

# IDDFS function definition
def iddfs(start, goal, max_depth):
    # Iterate over all depths from 0 to max_depth
    for depth in range(max_depth + 1): 
        visited = set()  # Keep track of visited nodes for each depth
        # Perform depth-limited search for the current depth
        if dls(start, goal, depth, visited):  
            return True  # Goal found
    return False  # Goal not found within max_depth

# Depth-Limited Search function definition
def dls(node, goal, depth, visited):
    # Base case: if the current node is the goal, return True
    if node == goal:
        print("Goal reached:", node)
        return True
    # If depth is zero or less, return False (depth limit reached)
    if depth <= 0:
        return False
    # If the node has already been visited, return False (avoid cycles)
    if node in visited:
        return False
    
    visited.add(node)  # Mark the node as visited
    
    # Recur for all the neighbors of the current node
    for neighbor in graph.get(node, []):
        # If the recursive call returns True, propagate the success up
        if dls(neighbor, goal, depth - 1, visited):
            return True
    
    return False  # Return False if the goal is not found in this path

# Parameters for the search
start_node = 'A'
goal_node = 'R'
max_depth = 6  # Assume a reasonable maximum depth

# Perform the IDDFS search and print the result
print("Searching for path from", start_node, "to", goal_node, "with maximum depth", max_depth)
if iddfs(start_node, goal_node, max_depth):
    print("Path found!")
else:
    print("Path not found within the maximum depth.")
